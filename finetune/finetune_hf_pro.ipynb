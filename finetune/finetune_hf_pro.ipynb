{
 "cells": [
  {
   "cell_type": "code",
   "execution_count": null,
   "id": "ae095fdf-2fc9-4262-93a0-f92589c9e065",
   "metadata": {},
   "outputs": [],
   "source": [
    "# ! pip install ipywidgets huggbingface_hub datasets transformers evaluate scikit-learn"
   ]
  },
  {
   "cell_type": "code",
   "execution_count": null,
   "id": "c5b0543d",
   "metadata": {},
   "outputs": [
    {
     "name": "stdout",
     "output_type": "stream",
     "text": [
      "CUDA is available: True\n",
      "Current CUDA device ID: 0\n",
      "CUDA device name: Tesla V100-PCIE-32GB\n",
      "Number of CUDA devices: 1\n"
     ]
    }
   ],
   "source": [
    "import torch\n",
    "\n",
    "# Check if CUDA is available\n",
    "cuda_available = torch.cuda.is_available()\n",
    "print(f\"CUDA is available: {cuda_available}\")\n",
    "\n",
    "# If CUDA is available, you can also check additional information\n",
    "if cuda_available:\n",
    "    # Current device ID\n",
    "    current_device = torch.cuda.current_device()\n",
    "    print(f\"Current CUDA device ID: {current_device}\")\n",
    "    \n",
    "    # Device name\n",
    "    device_name = torch.cuda.get_device_name(current_device)\n",
    "    print(f\"CUDA device name: {device_name}\")\n",
    "    \n",
    "    # Number of CUDA devices\n",
    "    device_count = torch.cuda.device_count()\n",
    "    print(f\"Number of CUDA devices: {device_count}\")"
   ]
  },
  {
   "cell_type": "code",
   "execution_count": 2,
   "id": "22df4ffa-5e4e-4e2e-9f4e-7055b24026b7",
   "metadata": {},
   "outputs": [],
   "source": [
    "from datasets import load_dataset\n",
    "from transformers import AutoTokenizer, AutoModelForMaskedLM\n",
    "from transformers import DataCollatorWithPadding\n",
    "import numpy as np\n",
    "from transformers import AutoModelForSequenceClassification, TrainingArguments, Trainer\n",
    "import os\n",
    "import evaluate\n",
    "from sklearn.metrics import accuracy_score, precision_recall_fscore_support"
   ]
  },
  {
   "cell_type": "markdown",
   "id": "f3b681eb-370d-4731-b1e4-af8498eb4d6f",
   "metadata": {},
   "source": [
    "# **Import IMDB Dataset**"
   ]
  },
  {
   "cell_type": "code",
   "execution_count": 3,
   "id": "c7d385b6-8518-4870-9e0c-5b0e6b900186",
   "metadata": {},
   "outputs": [
    {
     "data": {
      "text/plain": [
       "{'text': 'I love sci-fi and am willing to put up with a lot. Sci-fi movies/TV are usually underfunded, under-appreciated and misunderstood. I tried to like this, I really did, but it is to good TV sci-fi as Babylon 5 is to Star Trek (the original). Silly prosthetics, cheap cardboard sets, stilted dialogues, CG that doesn\\'t match the background, and painfully one-dimensional characters cannot be overcome with a \\'sci-fi\\' setting. (I\\'m sure there are those of you out there who think Babylon 5 is good sci-fi TV. It\\'s not. It\\'s clichéd and uninspiring.) While US viewers might like emotion and character development, sci-fi is a genre that does not take itself seriously (cf. Star Trek). It may treat important issues, yet not as a serious philosophy. It\\'s really difficult to care about the characters here as they are not simply foolish, just missing a spark of life. Their actions and reactions are wooden and predictable, often painful to watch. The makers of Earth KNOW it\\'s rubbish as they have to always say \"Gene Roddenberry\\'s Earth...\" otherwise people would not continue watching. Roddenberry\\'s ashes must be turning in their orbit as this dull, cheap, poorly edited (watching it without advert breaks really brings this home) trudging Trabant of a show lumbers into space. Spoiler. So, kill off a main character. And then bring him back as another actor. Jeeez! Dallas all over again.',\n",
       " 'label': 0}"
      ]
     },
     "execution_count": 3,
     "metadata": {},
     "output_type": "execute_result"
    }
   ],
   "source": [
    "imdb = load_dataset(\"imdb\")\n",
    "imdb[\"test\"][0]"
   ]
  },
  {
   "cell_type": "markdown",
   "id": "9aff100c-78e6-467a-82d5-c9f29e6cc281",
   "metadata": {},
   "source": [
    "# **Preprocess Dataset**"
   ]
  },
  {
   "cell_type": "markdown",
   "id": "afb415f4-450d-435e-902a-d8ac8ad39857",
   "metadata": {},
   "source": [
    "Tokenize the dataset and truncate long sequences."
   ]
  },
  {
   "cell_type": "code",
   "execution_count": 6,
   "id": "37786333-87da-4c8e-8462-08238f29c6dc",
   "metadata": {},
   "outputs": [],
   "source": [
    "tokenizer = AutoTokenizer.from_pretrained(\n",
    "    \"HamsterShiu/BERT_MLM\", \n",
    "    subfolder=\"hf_bert_pro_20_epochs\"\n",
    ")"
   ]
  },
  {
   "cell_type": "code",
   "execution_count": 7,
   "id": "26df17ca",
   "metadata": {},
   "outputs": [
    {
     "data": {
      "application/vnd.jupyter.widget-view+json": {
       "model_id": "958005ef14b8435e99b17c92fd131e75",
       "version_major": 2,
       "version_minor": 0
      },
      "text/plain": [
       "Map:   0%|          | 0/50000 [00:00<?, ? examples/s]"
      ]
     },
     "metadata": {},
     "output_type": "display_data"
    }
   ],
   "source": [
    "tokenized_imdb = imdb.map(lambda e: tokenizer(e[\"text\"], truncation=True, padding=True), batched=True)\n"
   ]
  },
  {
   "cell_type": "markdown",
   "id": "47ce1b26-37ad-41f4-8c92-b225475c7ce2",
   "metadata": {},
   "source": [
    "For some reason, which I should've Googled, transformers perform best when all of the input sentences have the same length. So, we need to dynamically pad the input to match the longest sentence in the batch."
   ]
  },
  {
   "cell_type": "code",
   "execution_count": 8,
   "id": "abfa4dd8-46a2-4ec6-8d98-4af82931b0db",
   "metadata": {},
   "outputs": [],
   "source": [
    "data_collator = DataCollatorWithPadding(tokenizer=tokenizer)"
   ]
  },
  {
   "cell_type": "markdown",
   "id": "dc776fbe-b365-4444-b10d-c309cd94e67c",
   "metadata": {},
   "source": [
    "Load the huggingface's accuracy metric."
   ]
  },
  {
   "cell_type": "code",
   "execution_count": 9,
   "id": "ec49c564-d91c-49e7-bc62-a3f015d012e5",
   "metadata": {},
   "outputs": [],
   "source": [
    "accuracy = evaluate.load(\"accuracy\")"
   ]
  },
  {
   "cell_type": "code",
   "execution_count": 10,
   "id": "57ea92c0-e0b6-4567-899c-35bf7c08f4bf",
   "metadata": {},
   "outputs": [],
   "source": [
    "def compute_metrics(eval_pred):\n",
    "    predictions, labels = eval_pred\n",
    "    predictions = np.argmax(predictions, axis=1)\n",
    "    precision, recall, f1, _ = precision_recall_fscore_support(labels, predictions, average='binary')\n",
    "    acc = accuracy_score(labels, predictions)\n",
    "    return {\n",
    "        'accuracy': acc,\n",
    "        'f1': f1,\n",
    "        'precision': precision,\n",
    "        'recall': recall\n",
    "    }"
   ]
  },
  {
   "cell_type": "markdown",
   "id": "ee31cba7-826e-499c-b8f0-9d5f30c8901f",
   "metadata": {},
   "source": [
    "# **Train Model**\n",
    "We import the unfinetuned DistilBERT and finetune, or load a finetuned model. We finetuned using arbitrarily chosen hyperparameter because why not."
   ]
  },
  {
   "cell_type": "code",
   "execution_count": 11,
   "id": "655eac0a",
   "metadata": {},
   "outputs": [
    {
     "data": {
      "application/vnd.jupyter.widget-view+json": {
       "model_id": "3cfbfa0788bf4e2ca77588a1c8e44ec6",
       "version_major": 2,
       "version_minor": 0
      },
      "text/plain": [
       "config.json:   0%|          | 0.00/624 [00:00<?, ?B/s]"
      ]
     },
     "metadata": {},
     "output_type": "display_data"
    },
    {
     "data": {
      "application/vnd.jupyter.widget-view+json": {
       "model_id": "f1166629ed75476c9347e3a0c58d1ed0",
       "version_major": 2,
       "version_minor": 0
      },
      "text/plain": [
       "model.safetensors:   0%|          | 0.00/438M [00:00<?, ?B/s]"
      ]
     },
     "metadata": {},
     "output_type": "display_data"
    },
    {
     "name": "stderr",
     "output_type": "stream",
     "text": [
      "Some weights of BertForSequenceClassification were not initialized from the model checkpoint at HamsterShiu/BERT_MLM and are newly initialized: ['bert.pooler.dense.bias', 'bert.pooler.dense.weight', 'classifier.bias', 'classifier.weight']\n",
      "You should probably TRAIN this model on a down-stream task to be able to use it for predictions and inference.\n"
     ]
    }
   ],
   "source": [
    "model = AutoModelForSequenceClassification.from_pretrained(\n",
    "    \"HamsterShiu/BERT_MLM\",\n",
    "    subfolder=\"hf_bert_pro_20_epochs\",\n",
    "    num_labels=2\n",
    ")"
   ]
  },
  {
   "cell_type": "code",
   "execution_count": 12,
   "id": "845f4abd-7d7e-4c6f-a7c0-291839898fb7",
   "metadata": {},
   "outputs": [
    {
     "name": "stderr",
     "output_type": "stream",
     "text": [
      "/home/FYP/nady0006/.conda/envs/nndl/lib/python3.11/site-packages/transformers/training_args.py:1611: FutureWarning: `evaluation_strategy` is deprecated and will be removed in version 4.46 of 🤗 Transformers. Use `eval_strategy` instead\n",
      "  warnings.warn(\n",
      "/tmp/ipykernel_431954/284536052.py:16: FutureWarning: `tokenizer` is deprecated and will be removed in version 5.0.0 for `Trainer.__init__`. Use `processing_class` instead.\n",
      "  trainer = Trainer(\n"
     ]
    }
   ],
   "source": [
    "# Probably need to understand what are these configs\n",
    "training_args = TrainingArguments(\n",
    "    output_dir=\"./SC4001/Assignment2/model/hf_pro\" ,\n",
    "    learning_rate=2e-5,\n",
    "    per_device_train_batch_size=16,\n",
    "    per_device_eval_batch_size=16,\n",
    "    num_train_epochs=2,\n",
    "    weight_decay=0.01,\n",
    "    evaluation_strategy=\"epoch\",\n",
    "    save_strategy=\"epoch\",\n",
    "    load_best_model_at_end=True,\n",
    "    push_to_hub=False,\n",
    ")\n",
    "\n",
    "# Initialize trainer\n",
    "trainer = Trainer(\n",
    "    model=model,\n",
    "    args=training_args,\n",
    "    train_dataset=tokenized_imdb[\"train\"],\n",
    "    eval_dataset=tokenized_imdb[\"test\"],\n",
    "    tokenizer=tokenizer,\n",
    "    data_collator=data_collator,\n",
    "    compute_metrics=compute_metrics,\n",
    ")"
   ]
  },
  {
   "cell_type": "code",
   "execution_count": null,
   "id": "edd027e2-f0e1-47a1-b000-19b9130b3f5a",
   "metadata": {},
   "outputs": [
    {
     "name": "stdout",
     "output_type": "stream",
     "text": [
      "Finetuned model exists: ./SC4001/Assignment2/model/hf_pro/checkpoint-1563\n"
     ]
    }
   ],
   "source": [
    "checkpoint_path = \"./SC4001/Assignment2/model/hf_pro/checkpoint-1563\"  # Change this directory as required\n",
    "\n",
    "if os.path.exists(checkpoint_path):\n",
    "    print(f\"Finetuned model exists: {checkpoint_path}\")\n",
    "    model = AutoModelForSequenceClassification.from_pretrained(\n",
    "        checkpoint_path,\n",
    "        num_labels=2\n",
    "    )\n",
    "else:\n",
    "    print(\"Finetuned model does not exist. Finetuning now.\")\n",
    "    trainer.train()"
   ]
  },
  {
   "cell_type": "markdown",
   "id": "c6264eb1-71f2-4701-8794-f4367255e6f9",
   "metadata": {},
   "source": [
    "# **Inference**\n",
    "This should take around 2 minutes in NTU GPU."
   ]
  },
  {
   "cell_type": "code",
   "execution_count": 61,
   "id": "e6d562c8",
   "metadata": {},
   "outputs": [
    {
     "name": "stderr",
     "output_type": "stream",
     "text": [
      "/home/FYP/nady0006/.conda/envs/nndl/lib/python3.11/site-packages/transformers/training_args.py:1611: FutureWarning: `evaluation_strategy` is deprecated and will be removed in version 4.46 of 🤗 Transformers. Use `eval_strategy` instead\n",
      "  warnings.warn(\n",
      "/tmp/ipykernel_431954/95413423.py:11: FutureWarning: `tokenizer` is deprecated and will be removed in version 5.0.0 for `Trainer.__init__`. Use `processing_class` instead.\n",
      "  eval_trainer = Trainer(\n"
     ]
    },
    {
     "data": {
      "text/html": [
       "\n",
       "    <div>\n",
       "      \n",
       "      <progress value='1563' max='1563' style='width:300px; height:20px; vertical-align: middle;'></progress>\n",
       "      [1563/1563 03:58]\n",
       "    </div>\n",
       "    "
      ],
      "text/plain": [
       "<IPython.core.display.HTML object>"
      ]
     },
     "metadata": {},
     "output_type": "display_data"
    },
    {
     "name": "stdout",
     "output_type": "stream",
     "text": [
      "Evaluation results: {'eval_loss': 0.16339823603630066, 'eval_model_preparation_time': 0.0022, 'eval_accuracy': 0.94204, 'eval_f1': 0.9414474481755364, 'eval_precision': 0.9511717155221687, 'eval_recall': 0.93192, 'eval_runtime': 238.957, 'eval_samples_per_second': 104.621, 'eval_steps_per_second': 6.541}\n"
     ]
    }
   ],
   "source": [
    "# Create evaluation arguments\n",
    "eval_args = TrainingArguments(\n",
    "    output_dir=\"./SC4001/Assignment2/eval_results\",\n",
    "    per_device_eval_batch_size=16,\n",
    "    evaluation_strategy=\"epoch\",\n",
    "    save_strategy=\"epoch\",\n",
    "    report_to=\"none\"\n",
    ")\n",
    "\n",
    "# Set up the evaluation trainer\n",
    "eval_trainer = Trainer(\n",
    "    model=model,\n",
    "    args=eval_args,\n",
    "    tokenizer=tokenizer,\n",
    "    eval_dataset=tokenized_imdb[\"test\"],\n",
    "    data_collator=data_collator,\n",
    "    compute_metrics=compute_metrics\n",
    ")\n",
    "\n",
    "# Run evaluation\n",
    "eval_results = eval_trainer.evaluate()\n",
    "print(f\"Evaluation results: {eval_results}\")"
   ]
  }
 ],
 "metadata": {
  "kernelspec": {
   "display_name": "nndl",
   "language": "python",
   "name": "nndl"
  }
 },
 "nbformat": 4,
 "nbformat_minor": 5
}
