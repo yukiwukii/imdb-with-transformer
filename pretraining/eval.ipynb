{
 "cells": [
  {
   "cell_type": "code",
   "execution_count": 5,
   "id": "06632854-a110-412f-897a-ff3be7e44559",
   "metadata": {},
   "outputs": [
    {
     "name": "stdout",
     "output_type": "stream",
     "text": [
      "Defaulting to user installation because normal site-packages is not writeable\n",
      "Collecting tf-keras\n",
      "  Using cached tf_keras-2.19.0-py3-none-any.whl.metadata (1.8 kB)\n",
      "Requirement already satisfied: tensorflow<2.20,>=2.19 in /home/UG/shiu0005/.local/lib/python3.12/site-packages (from tf-keras) (2.19.0)\n",
      "Requirement already satisfied: absl-py>=1.0.0 in /home/UG/shiu0005/.local/lib/python3.12/site-packages (from tensorflow<2.20,>=2.19->tf-keras) (2.2.1)\n",
      "Requirement already satisfied: astunparse>=1.6.0 in /home/UG/shiu0005/.local/lib/python3.12/site-packages (from tensorflow<2.20,>=2.19->tf-keras) (1.6.3)\n",
      "Requirement already satisfied: flatbuffers>=24.3.25 in /home/UG/shiu0005/.local/lib/python3.12/site-packages (from tensorflow<2.20,>=2.19->tf-keras) (25.2.10)\n",
      "Requirement already satisfied: gast!=0.5.0,!=0.5.1,!=0.5.2,>=0.2.1 in /home/UG/shiu0005/.local/lib/python3.12/site-packages (from tensorflow<2.20,>=2.19->tf-keras) (0.6.0)\n",
      "Requirement already satisfied: google-pasta>=0.1.1 in /home/UG/shiu0005/.local/lib/python3.12/site-packages (from tensorflow<2.20,>=2.19->tf-keras) (0.2.0)\n",
      "Requirement already satisfied: libclang>=13.0.0 in /home/UG/shiu0005/.local/lib/python3.12/site-packages (from tensorflow<2.20,>=2.19->tf-keras) (18.1.1)\n",
      "Requirement already satisfied: opt-einsum>=2.3.2 in /home/UG/shiu0005/.local/lib/python3.12/site-packages (from tensorflow<2.20,>=2.19->tf-keras) (3.4.0)\n",
      "Requirement already satisfied: packaging in /tc1apps/anaconda3/lib/python3.12/site-packages (from tensorflow<2.20,>=2.19->tf-keras) (23.2)\n",
      "Requirement already satisfied: protobuf!=4.21.0,!=4.21.1,!=4.21.2,!=4.21.3,!=4.21.4,!=4.21.5,<6.0.0dev,>=3.20.3 in /tc1apps/anaconda3/lib/python3.12/site-packages (from tensorflow<2.20,>=2.19->tf-keras) (3.20.3)\n",
      "Requirement already satisfied: requests<3,>=2.21.0 in /tc1apps/anaconda3/lib/python3.12/site-packages (from tensorflow<2.20,>=2.19->tf-keras) (2.32.2)\n",
      "Requirement already satisfied: setuptools in /tc1apps/anaconda3/lib/python3.12/site-packages (from tensorflow<2.20,>=2.19->tf-keras) (69.5.1)\n",
      "Requirement already satisfied: six>=1.12.0 in /tc1apps/anaconda3/lib/python3.12/site-packages (from tensorflow<2.20,>=2.19->tf-keras) (1.16.0)\n",
      "Requirement already satisfied: termcolor>=1.1.0 in /home/UG/shiu0005/.local/lib/python3.12/site-packages (from tensorflow<2.20,>=2.19->tf-keras) (2.5.0)\n",
      "Requirement already satisfied: typing-extensions>=3.6.6 in /tc1apps/anaconda3/lib/python3.12/site-packages (from tensorflow<2.20,>=2.19->tf-keras) (4.11.0)\n",
      "Requirement already satisfied: wrapt>=1.11.0 in /tc1apps/anaconda3/lib/python3.12/site-packages (from tensorflow<2.20,>=2.19->tf-keras) (1.14.1)\n",
      "Requirement already satisfied: grpcio<2.0,>=1.24.3 in /home/UG/shiu0005/.local/lib/python3.12/site-packages (from tensorflow<2.20,>=2.19->tf-keras) (1.71.0)\n",
      "Requirement already satisfied: tensorboard~=2.19.0 in /home/UG/shiu0005/.local/lib/python3.12/site-packages (from tensorflow<2.20,>=2.19->tf-keras) (2.19.0)\n",
      "Requirement already satisfied: keras>=3.5.0 in /home/UG/shiu0005/.local/lib/python3.12/site-packages (from tensorflow<2.20,>=2.19->tf-keras) (3.9.1)\n",
      "Requirement already satisfied: numpy<2.2.0,>=1.26.0 in /tc1apps/anaconda3/lib/python3.12/site-packages (from tensorflow<2.20,>=2.19->tf-keras) (1.26.4)\n",
      "Requirement already satisfied: h5py>=3.11.0 in /tc1apps/anaconda3/lib/python3.12/site-packages (from tensorflow<2.20,>=2.19->tf-keras) (3.11.0)\n",
      "Requirement already satisfied: ml-dtypes<1.0.0,>=0.5.1 in /home/UG/shiu0005/.local/lib/python3.12/site-packages (from tensorflow<2.20,>=2.19->tf-keras) (0.5.1)\n",
      "Requirement already satisfied: wheel<1.0,>=0.23.0 in /tc1apps/anaconda3/lib/python3.12/site-packages (from astunparse>=1.6.0->tensorflow<2.20,>=2.19->tf-keras) (0.43.0)\n",
      "Requirement already satisfied: rich in /tc1apps/anaconda3/lib/python3.12/site-packages (from keras>=3.5.0->tensorflow<2.20,>=2.19->tf-keras) (13.3.5)\n",
      "Requirement already satisfied: namex in /home/UG/shiu0005/.local/lib/python3.12/site-packages (from keras>=3.5.0->tensorflow<2.20,>=2.19->tf-keras) (0.0.8)\n",
      "Requirement already satisfied: optree in /home/UG/shiu0005/.local/lib/python3.12/site-packages (from keras>=3.5.0->tensorflow<2.20,>=2.19->tf-keras) (0.14.1)\n",
      "Requirement already satisfied: charset-normalizer<4,>=2 in /tc1apps/anaconda3/lib/python3.12/site-packages (from requests<3,>=2.21.0->tensorflow<2.20,>=2.19->tf-keras) (2.0.4)\n",
      "Requirement already satisfied: idna<4,>=2.5 in /tc1apps/anaconda3/lib/python3.12/site-packages (from requests<3,>=2.21.0->tensorflow<2.20,>=2.19->tf-keras) (3.7)\n",
      "Requirement already satisfied: urllib3<3,>=1.21.1 in /tc1apps/anaconda3/lib/python3.12/site-packages (from requests<3,>=2.21.0->tensorflow<2.20,>=2.19->tf-keras) (2.2.2)\n",
      "Requirement already satisfied: certifi>=2017.4.17 in /tc1apps/anaconda3/lib/python3.12/site-packages (from requests<3,>=2.21.0->tensorflow<2.20,>=2.19->tf-keras) (2024.6.2)\n",
      "Requirement already satisfied: markdown>=2.6.8 in /tc1apps/anaconda3/lib/python3.12/site-packages (from tensorboard~=2.19.0->tensorflow<2.20,>=2.19->tf-keras) (3.4.1)\n",
      "Requirement already satisfied: tensorboard-data-server<0.8.0,>=0.7.0 in /home/UG/shiu0005/.local/lib/python3.12/site-packages (from tensorboard~=2.19.0->tensorflow<2.20,>=2.19->tf-keras) (0.7.2)\n",
      "Requirement already satisfied: werkzeug>=1.0.1 in /tc1apps/anaconda3/lib/python3.12/site-packages (from tensorboard~=2.19.0->tensorflow<2.20,>=2.19->tf-keras) (3.0.3)\n",
      "Requirement already satisfied: MarkupSafe>=2.1.1 in /tc1apps/anaconda3/lib/python3.12/site-packages (from werkzeug>=1.0.1->tensorboard~=2.19.0->tensorflow<2.20,>=2.19->tf-keras) (2.1.3)\n",
      "Requirement already satisfied: markdown-it-py<3.0.0,>=2.2.0 in /tc1apps/anaconda3/lib/python3.12/site-packages (from rich->keras>=3.5.0->tensorflow<2.20,>=2.19->tf-keras) (2.2.0)\n",
      "Requirement already satisfied: pygments<3.0.0,>=2.13.0 in /tc1apps/anaconda3/lib/python3.12/site-packages (from rich->keras>=3.5.0->tensorflow<2.20,>=2.19->tf-keras) (2.15.1)\n",
      "Requirement already satisfied: mdurl~=0.1 in /tc1apps/anaconda3/lib/python3.12/site-packages (from markdown-it-py<3.0.0,>=2.2.0->rich->keras>=3.5.0->tensorflow<2.20,>=2.19->tf-keras) (0.1.0)\n",
      "Downloading tf_keras-2.19.0-py3-none-any.whl (1.7 MB)\n",
      "\u001b[2K   \u001b[90m━━━━━━━━━━━━━━━━━━━━━━━━━━━━━━━━━━━━━━━━\u001b[0m \u001b[32m1.7/1.7 MB\u001b[0m \u001b[31m2.6 MB/s\u001b[0m eta \u001b[36m0:00:00\u001b[0m00:01\u001b[0m00:01\u001b[0m\n",
      "\u001b[?25hInstalling collected packages: tf-keras\n",
      "Successfully installed tf-keras-2.19.0\n"
     ]
    }
   ],
   "source": [
    "!pip install tf-keras"
   ]
  },
  {
   "cell_type": "code",
   "execution_count": 3,
   "id": "1cd44b59-39dc-48b2-9f50-b78dc88fb08e",
   "metadata": {},
   "outputs": [],
   "source": [
    "from datasets import load_dataset\n",
    "import tokenizers\n",
    "from transformers import BertTokenizer, BertConfig, BertForMaskedLM, DataCollatorForLanguageModeling, pipeline, Trainer, TrainingArguments"
   ]
  },
  {
   "cell_type": "code",
   "execution_count": 4,
   "id": "a0514a3b-83a2-443e-a5d6-baaa12f2b171",
   "metadata": {},
   "outputs": [],
   "source": [
    "text = \"\"\"This isn't my typical movie genre. I am more interested in character drama than action movies. This is able to span both genres in a way that [MASK] hasn't managed to accomplish. The plot was interesting and the acting by Anne Parillaud was exceptional.<br /><br />I had seen the American remake, called \"Point of No Return\" and found it to be an OK movie, but I wanted to see the original. I am glad that I did. The technical aspects of direction and editing are very good. The plot was interesting - revolving around the timeless theme of redemption. The acting made this an exceptional movie.<br /><br />For fans of the action genre, they will be quite happy. For those like myself who are more interested in character and plot-driven movies may find this to be a pleasant surprise as well.\"\"\""
   ]
  },
  {
   "cell_type": "code",
   "execution_count": 5,
   "id": "de477187-bd2a-4387-a342-2c8d0835ba0f",
   "metadata": {},
   "outputs": [],
   "source": [
    "tokenizer = BertTokenizer.from_pretrained(\"bert-base-uncased\")\n",
    "data_collator = DataCollatorForLanguageModeling(\n",
    "    tokenizer=tokenizer, mlm=True, mlm_probability=0.15\n",
    ")"
   ]
  },
  {
   "cell_type": "code",
   "execution_count": 6,
   "id": "574e3ece-dc5a-441b-a130-29dca3dbcec4",
   "metadata": {},
   "outputs": [],
   "source": [
    "dataset = load_dataset(\"imdb\")\n",
    "test_dataset = dataset[\"test\"].map(lambda e: tokenizer(e[\"text\"], truncation=True, padding=True), batched=True)\n",
    "test_dataset = test_dataset.rename_column(\"label\", \"labels\")"
   ]
  },
  {
   "cell_type": "markdown",
   "id": "fa0b44d8-8cd8-437f-9ba5-889d0b66e452",
   "metadata": {},
   "source": [
    "# Using HF BERT OG"
   ]
  },
  {
   "cell_type": "code",
   "execution_count": 11,
   "id": "6596b868-3519-4c05-bedd-dfc1b9447e0f",
   "metadata": {},
   "outputs": [
    {
     "name": "stderr",
     "output_type": "stream",
     "text": [
      "Some weights of the model checkpoint at bert-base-uncased were not used when initializing BertForMaskedLM: ['bert.pooler.dense.bias', 'bert.pooler.dense.weight', 'cls.seq_relationship.bias', 'cls.seq_relationship.weight']\n",
      "- This IS expected if you are initializing BertForMaskedLM from the checkpoint of a model trained on another task or with another architecture (e.g. initializing a BertForSequenceClassification model from a BertForPreTraining model).\n",
      "- This IS NOT expected if you are initializing BertForMaskedLM from the checkpoint of a model that you expect to be exactly identical (initializing a BertForSequenceClassification model from a BertForSequenceClassification model).\n",
      "Device set to use cuda:0\n"
     ]
    }
   ],
   "source": [
    "bert_model = BertForMaskedLM.from_pretrained('bert-base-uncased')\n",
    "fill_mask = pipeline(\n",
    "    \"fill-mask\",\n",
    "    model=bert_model,\n",
    "    tokenizer=tokenizer\n",
    ")"
   ]
  },
  {
   "cell_type": "code",
   "execution_count": 12,
   "id": "4c8dc45d-4e3a-4bce-b8bb-ef3a73f2f1f9",
   "metadata": {},
   "outputs": [
    {
     "data": {
      "text/plain": [
       "[{'score': 0.737318217754364,\n",
       "  'token': 2009,\n",
       "  'token_str': 'it',\n",
       "  'sequence': 'this isn\\'t my typical movie genre. i am more interested in character drama than action movies. this is able to span both genres in a way that it hasn\\'t managed to accomplish. the plot was interesting and the acting by anne parillaud was exceptional. < br / > < br / > i had seen the american remake, called \" point of no return \" and found it to be an ok movie, but i wanted to see the original. i am glad that i did. the technical aspects of direction and editing are very good. the plot was interesting - revolving around the timeless theme of redemption. the acting made this an exceptional movie. < br / > < br / > for fans of the action genre, they will be quite happy. for those like myself who are more interested in character and plot - driven movies may find this to be a pleasant surprise as well.'},\n",
       " {'score': 0.04811081290245056,\n",
       "  'token': 2028,\n",
       "  'token_str': 'one',\n",
       "  'sequence': 'this isn\\'t my typical movie genre. i am more interested in character drama than action movies. this is able to span both genres in a way that one hasn\\'t managed to accomplish. the plot was interesting and the acting by anne parillaud was exceptional. < br / > < br / > i had seen the american remake, called \" point of no return \" and found it to be an ok movie, but i wanted to see the original. i am glad that i did. the technical aspects of direction and editing are very good. the plot was interesting - revolving around the timeless theme of redemption. the acting made this an exceptional movie. < br / > < br / > for fans of the action genre, they will be quite happy. for those like myself who are more interested in character and plot - driven movies may find this to be a pleasant surprise as well.'},\n",
       " {'score': 0.015703000128269196,\n",
       "  'token': 5365,\n",
       "  'token_str': 'hollywood',\n",
       "  'sequence': 'this isn\\'t my typical movie genre. i am more interested in character drama than action movies. this is able to span both genres in a way that hollywood hasn\\'t managed to accomplish. the plot was interesting and the acting by anne parillaud was exceptional. < br / > < br / > i had seen the american remake, called \" point of no return \" and found it to be an ok movie, but i wanted to see the original. i am glad that i did. the technical aspects of direction and editing are very good. the plot was interesting - revolving around the timeless theme of redemption. the acting made this an exceptional movie. < br / > < br / > for fans of the action genre, they will be quite happy. for those like myself who are more interested in character and plot - driven movies may find this to be a pleasant surprise as well.'},\n",
       " {'score': 0.012575021013617516,\n",
       "  'token': 2381,\n",
       "  'token_str': 'history',\n",
       "  'sequence': 'this isn\\'t my typical movie genre. i am more interested in character drama than action movies. this is able to span both genres in a way that history hasn\\'t managed to accomplish. the plot was interesting and the acting by anne parillaud was exceptional. < br / > < br / > i had seen the american remake, called \" point of no return \" and found it to be an ok movie, but i wanted to see the original. i am glad that i did. the technical aspects of direction and editing are very good. the plot was interesting - revolving around the timeless theme of redemption. the acting made this an exceptional movie. < br / > < br / > for fans of the action genre, they will be quite happy. for those like myself who are more interested in character and plot - driven movies may find this to be a pleasant surprise as well.'},\n",
       " {'score': 0.009084844961762428,\n",
       "  'token': 2143,\n",
       "  'token_str': 'film',\n",
       "  'sequence': 'this isn\\'t my typical movie genre. i am more interested in character drama than action movies. this is able to span both genres in a way that film hasn\\'t managed to accomplish. the plot was interesting and the acting by anne parillaud was exceptional. < br / > < br / > i had seen the american remake, called \" point of no return \" and found it to be an ok movie, but i wanted to see the original. i am glad that i did. the technical aspects of direction and editing are very good. the plot was interesting - revolving around the timeless theme of redemption. the acting made this an exceptional movie. < br / > < br / > for fans of the action genre, they will be quite happy. for those like myself who are more interested in character and plot - driven movies may find this to be a pleasant surprise as well.'}]"
      ]
     },
     "execution_count": 12,
     "metadata": {},
     "output_type": "execute_result"
    }
   ],
   "source": [
    "fill_mask(text)"
   ]
  },
  {
   "cell_type": "code",
   "execution_count": 13,
   "id": "9f16beaf-71bb-45c9-9fd4-c43803ab378f",
   "metadata": {},
   "outputs": [
    {
     "data": {
      "text/html": [
       "\n",
       "    <div>\n",
       "      \n",
       "      <progress value='3125' max='3125' style='width:300px; height:20px; vertical-align: middle;'></progress>\n",
       "      [3125/3125 05:16]\n",
       "    </div>\n",
       "    "
      ],
      "text/plain": [
       "<IPython.core.display.HTML object>"
      ]
     },
     "metadata": {},
     "output_type": "display_data"
    },
    {
     "data": {
      "text/plain": [
       "{'eval_loss': 2.345867872238159,\n",
       " 'eval_model_preparation_time': 0.0022,\n",
       " 'eval_runtime': 317.0183,\n",
       " 'eval_samples_per_second': 78.86,\n",
       " 'eval_steps_per_second': 9.857}"
      ]
     },
     "execution_count": 13,
     "metadata": {},
     "output_type": "execute_result"
    }
   ],
   "source": [
    "training_args = TrainingArguments(\n",
    "    per_device_train_batch_size=32,\n",
    ")\n",
    "\n",
    "trainer = Trainer(\n",
    "    model=bert_model,\n",
    "    args=training_args,\n",
    "    data_collator=data_collator,\n",
    ")\n",
    "\n",
    "trainer.evaluate(test_dataset)"
   ]
  },
  {
   "cell_type": "markdown",
   "id": "8894f122-bfcd-44a8-bf75-c3ea0b3cf75d",
   "metadata": {},
   "source": [
    "# Using Wes BERT"
   ]
  },
  {
   "cell_type": "markdown",
   "id": "03778795-1f9f-4503-a228-223ff1d71b64",
   "metadata": {},
   "source": [
    "Wes BERT "
   ]
  },
  {
   "cell_type": "code",
   "execution_count": 18,
   "id": "600232a0-0475-4877-b0a8-75809183dfea",
   "metadata": {},
   "outputs": [
    {
     "name": "stderr",
     "output_type": "stream",
     "text": [
      "Device set to use cuda:0\n"
     ]
    }
   ],
   "source": [
    "model = BertForMaskedLM.from_pretrained('checkpoints/checkpoint-95000')\n",
    "fill_mask = pipeline(\n",
    "    \"fill-mask\",\n",
    "    model=model,\n",
    "    tokenizer=tokenizer\n",
    ")"
   ]
  },
  {
   "cell_type": "code",
   "execution_count": 19,
   "id": "b81b13ce-7060-4914-be5a-2d2adce35b36",
   "metadata": {},
   "outputs": [
    {
     "data": {
      "text/plain": [
       "[{'score': 0.29947608709335327,\n",
       "  'token': 5365,\n",
       "  'token_str': 'hollywood',\n",
       "  'sequence': 'this isn\\'t my typical movie genre. i am more interested in character drama than action movies. this is able to span both genres in a way that hollywood hasn\\'t managed to accomplish. the plot was interesting and the acting by anne parillaud was exceptional. < br / > < br / > i had seen the american remake, called \" point of no return \" and found it to be an ok movie, but i wanted to see the original. i am glad that i did. the technical aspects of direction and editing are very good. the plot was interesting - revolving around the timeless theme of redemption. the acting made this an exceptional movie. < br / > < br / > for fans of the action genre, they will be quite happy. for those like myself who are more interested in character and plot - driven movies may find this to be a pleasant surprise as well.'},\n",
       " {'score': 0.296558678150177,\n",
       "  'token': 2009,\n",
       "  'token_str': 'it',\n",
       "  'sequence': 'this isn\\'t my typical movie genre. i am more interested in character drama than action movies. this is able to span both genres in a way that it hasn\\'t managed to accomplish. the plot was interesting and the acting by anne parillaud was exceptional. < br / > < br / > i had seen the american remake, called \" point of no return \" and found it to be an ok movie, but i wanted to see the original. i am glad that i did. the technical aspects of direction and editing are very good. the plot was interesting - revolving around the timeless theme of redemption. the acting made this an exceptional movie. < br / > < br / > for fans of the action genre, they will be quite happy. for those like myself who are more interested in character and plot - driven movies may find this to be a pleasant surprise as well.'},\n",
       " {'score': 0.06096010282635689,\n",
       "  'token': 2028,\n",
       "  'token_str': 'one',\n",
       "  'sequence': 'this isn\\'t my typical movie genre. i am more interested in character drama than action movies. this is able to span both genres in a way that one hasn\\'t managed to accomplish. the plot was interesting and the acting by anne parillaud was exceptional. < br / > < br / > i had seen the american remake, called \" point of no return \" and found it to be an ok movie, but i wanted to see the original. i am glad that i did. the technical aspects of direction and editing are very good. the plot was interesting - revolving around the timeless theme of redemption. the acting made this an exceptional movie. < br / > < br / > for fans of the action genre, they will be quite happy. for those like myself who are more interested in character and plot - driven movies may find this to be a pleasant surprise as well.'},\n",
       " {'score': 0.05891558900475502,\n",
       "  'token': 2472,\n",
       "  'token_str': 'director',\n",
       "  'sequence': 'this isn\\'t my typical movie genre. i am more interested in character drama than action movies. this is able to span both genres in a way that director hasn\\'t managed to accomplish. the plot was interesting and the acting by anne parillaud was exceptional. < br / > < br / > i had seen the american remake, called \" point of no return \" and found it to be an ok movie, but i wanted to see the original. i am glad that i did. the technical aspects of direction and editing are very good. the plot was interesting - revolving around the timeless theme of redemption. the acting made this an exceptional movie. < br / > < br / > for fans of the action genre, they will be quite happy. for those like myself who are more interested in character and plot - driven movies may find this to be a pleasant surprise as well.'},\n",
       " {'score': 0.04534604772925377,\n",
       "  'token': 2002,\n",
       "  'token_str': 'he',\n",
       "  'sequence': 'this isn\\'t my typical movie genre. i am more interested in character drama than action movies. this is able to span both genres in a way that he hasn\\'t managed to accomplish. the plot was interesting and the acting by anne parillaud was exceptional. < br / > < br / > i had seen the american remake, called \" point of no return \" and found it to be an ok movie, but i wanted to see the original. i am glad that i did. the technical aspects of direction and editing are very good. the plot was interesting - revolving around the timeless theme of redemption. the acting made this an exceptional movie. < br / > < br / > for fans of the action genre, they will be quite happy. for those like myself who are more interested in character and plot - driven movies may find this to be a pleasant surprise as well.'}]"
      ]
     },
     "execution_count": 19,
     "metadata": {},
     "output_type": "execute_result"
    }
   ],
   "source": [
    "fill_mask(text)"
   ]
  },
  {
   "cell_type": "code",
   "execution_count": 20,
   "id": "652bff42-8461-4ec6-b84c-ba4b993b3479",
   "metadata": {},
   "outputs": [],
   "source": [
    "training_args = TrainingArguments(\n",
    "    per_device_train_batch_size=32,\n",
    ")\n",
    "\n",
    "trainer = Trainer(\n",
    "    model=model,\n",
    "    args=training_args,\n",
    "    data_collator=data_collator,\n",
    ")"
   ]
  },
  {
   "cell_type": "code",
   "execution_count": 21,
   "id": "2f968492-0ba7-4176-bddd-b4b12dad6498",
   "metadata": {},
   "outputs": [
    {
     "data": {
      "text/html": [
       "\n",
       "    <div>\n",
       "      \n",
       "      <progress value='3125' max='3125' style='width:300px; height:20px; vertical-align: middle;'></progress>\n",
       "      [3125/3125 03:47]\n",
       "    </div>\n",
       "    "
      ],
      "text/plain": [
       "<IPython.core.display.HTML object>"
      ]
     },
     "metadata": {},
     "output_type": "display_data"
    },
    {
     "data": {
      "text/plain": [
       "{'eval_loss': 2.4548254013061523,\n",
       " 'eval_model_preparation_time': 0.0012,\n",
       " 'eval_runtime': 227.6852,\n",
       " 'eval_samples_per_second': 109.801,\n",
       " 'eval_steps_per_second': 13.725}"
      ]
     },
     "execution_count": 21,
     "metadata": {},
     "output_type": "execute_result"
    }
   ],
   "source": [
    "trainer.evaluate(test_dataset)"
   ]
  },
  {
   "cell_type": "markdown",
   "id": "4afbd694-f6e2-4e1a-848b-f446561f9991",
   "metadata": {},
   "source": [
    "# Using HF BERT PRO"
   ]
  },
  {
   "cell_type": "code",
   "execution_count": 8,
   "id": "4b7d6315-eecd-42e9-842a-1d9bd6db1c34",
   "metadata": {},
   "outputs": [
    {
     "name": "stderr",
     "output_type": "stream",
     "text": [
      "Device set to use cuda:0\n"
     ]
    }
   ],
   "source": [
    "model = BertForMaskedLM.from_pretrained(\n",
    "    \"HamsterShiu/BERT_MLM\",\n",
    "    subfolder=\"hf_bert_pro_20_epochs\",\n",
    ")\n",
    "fill_mask = pipeline(\n",
    "    \"fill-mask\",\n",
    "    model=model,\n",
    "    tokenizer=tokenizer\n",
    ")"
   ]
  },
  {
   "cell_type": "code",
   "execution_count": 9,
   "id": "b7d83b4a-0d6f-4fa1-abd4-4cc65aafbc8e",
   "metadata": {},
   "outputs": [
    {
     "data": {
      "text/plain": [
       "[{'score': 0.6361707448959351,\n",
       "  'token': 2009,\n",
       "  'token_str': 'it',\n",
       "  'sequence': 'this isn\\'t my typical movie genre. i am more interested in character drama than action movies. this is able to span both genres in a way that it hasn\\'t managed to accomplish. the plot was interesting and the acting by anne parillaud was exceptional. < br / > < br / > i had seen the american remake, called \" point of no return \" and found it to be an ok movie, but i wanted to see the original. i am glad that i did. the technical aspects of direction and editing are very good. the plot was interesting - revolving around the timeless theme of redemption. the acting made this an exceptional movie. < br / > < br / > for fans of the action genre, they will be quite happy. for those like myself who are more interested in character and plot - driven movies may find this to be a pleasant surprise as well.'},\n",
       " {'score': 0.26585736870765686,\n",
       "  'token': 5365,\n",
       "  'token_str': 'hollywood',\n",
       "  'sequence': 'this isn\\'t my typical movie genre. i am more interested in character drama than action movies. this is able to span both genres in a way that hollywood hasn\\'t managed to accomplish. the plot was interesting and the acting by anne parillaud was exceptional. < br / > < br / > i had seen the american remake, called \" point of no return \" and found it to be an ok movie, but i wanted to see the original. i am glad that i did. the technical aspects of direction and editing are very good. the plot was interesting - revolving around the timeless theme of redemption. the acting made this an exceptional movie. < br / > < br / > for fans of the action genre, they will be quite happy. for those like myself who are more interested in character and plot - driven movies may find this to be a pleasant surprise as well.'},\n",
       " {'score': 0.00808157678693533,\n",
       "  'token': 6373,\n",
       "  'token_str': 'disney',\n",
       "  'sequence': 'this isn\\'t my typical movie genre. i am more interested in character drama than action movies. this is able to span both genres in a way that disney hasn\\'t managed to accomplish. the plot was interesting and the acting by anne parillaud was exceptional. < br / > < br / > i had seen the american remake, called \" point of no return \" and found it to be an ok movie, but i wanted to see the original. i am glad that i did. the technical aspects of direction and editing are very good. the plot was interesting - revolving around the timeless theme of redemption. the acting made this an exceptional movie. < br / > < br / > for fans of the action genre, they will be quite happy. for those like myself who are more interested in character and plot - driven movies may find this to be a pleasant surprise as well.'},\n",
       " {'score': 0.006827419623732567,\n",
       "  'token': 2023,\n",
       "  'token_str': 'this',\n",
       "  'sequence': 'this isn\\'t my typical movie genre. i am more interested in character drama than action movies. this is able to span both genres in a way that this hasn\\'t managed to accomplish. the plot was interesting and the acting by anne parillaud was exceptional. < br / > < br / > i had seen the american remake, called \" point of no return \" and found it to be an ok movie, but i wanted to see the original. i am glad that i did. the technical aspects of direction and editing are very good. the plot was interesting - revolving around the timeless theme of redemption. the acting made this an exceptional movie. < br / > < br / > for fans of the action genre, they will be quite happy. for those like myself who are more interested in character and plot - driven movies may find this to be a pleasant surprise as well.'},\n",
       " {'score': 0.0028913237620145082,\n",
       "  'token': 2637,\n",
       "  'token_str': 'america',\n",
       "  'sequence': 'this isn\\'t my typical movie genre. i am more interested in character drama than action movies. this is able to span both genres in a way that america hasn\\'t managed to accomplish. the plot was interesting and the acting by anne parillaud was exceptional. < br / > < br / > i had seen the american remake, called \" point of no return \" and found it to be an ok movie, but i wanted to see the original. i am glad that i did. the technical aspects of direction and editing are very good. the plot was interesting - revolving around the timeless theme of redemption. the acting made this an exceptional movie. < br / > < br / > for fans of the action genre, they will be quite happy. for those like myself who are more interested in character and plot - driven movies may find this to be a pleasant surprise as well.'}]"
      ]
     },
     "execution_count": 9,
     "metadata": {},
     "output_type": "execute_result"
    }
   ],
   "source": [
    "fill_mask(text)"
   ]
  },
  {
   "cell_type": "code",
   "execution_count": 10,
   "id": "4d393834-be59-43bf-a61b-c972d62f0f81",
   "metadata": {},
   "outputs": [
    {
     "data": {
      "text/html": [
       "\n",
       "    <div>\n",
       "      \n",
       "      <progress value='3125' max='3125' style='width:300px; height:20px; vertical-align: middle;'></progress>\n",
       "      [3125/3125 05:18]\n",
       "    </div>\n",
       "    "
      ],
      "text/plain": [
       "<IPython.core.display.HTML object>"
      ]
     },
     "metadata": {},
     "output_type": "display_data"
    },
    {
     "data": {
      "text/plain": [
       "{'eval_loss': 1.6976091861724854,\n",
       " 'eval_model_preparation_time': 0.0018,\n",
       " 'eval_runtime': 318.4947,\n",
       " 'eval_samples_per_second': 78.494,\n",
       " 'eval_steps_per_second': 9.812}"
      ]
     },
     "execution_count": 10,
     "metadata": {},
     "output_type": "execute_result"
    }
   ],
   "source": [
    "training_args = TrainingArguments(\n",
    "    per_device_train_batch_size=32,\n",
    ")\n",
    "\n",
    "trainer = Trainer(\n",
    "    model=model,\n",
    "    args=training_args,\n",
    "    data_collator=data_collator,\n",
    ")\n",
    "\n",
    "trainer.evaluate(test_dataset)"
   ]
  },
  {
   "cell_type": "code",
   "execution_count": null,
   "id": "4fc746f5-14b0-4d7a-aea3-aea2839e616c",
   "metadata": {},
   "outputs": [],
   "source": []
  }
 ],
 "metadata": {
  "kernelspec": {
   "display_name": "Python 3 (ipykernel)",
   "language": "python",
   "name": "python3"
  },
  "language_info": {
   "codemirror_mode": {
    "name": "ipython",
    "version": 3
   },
   "file_extension": ".py",
   "mimetype": "text/x-python",
   "name": "python",
   "nbconvert_exporter": "python",
   "pygments_lexer": "ipython3",
   "version": "3.12.4"
  }
 },
 "nbformat": 4,
 "nbformat_minor": 5
}
