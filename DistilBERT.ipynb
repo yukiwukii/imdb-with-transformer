{
 "cells": [
  {
   "cell_type": "code",
   "execution_count": null,
   "id": "ae095fdf-2fc9-4262-93a0-f92589c9e065",
   "metadata": {},
   "outputs": [],
   "source": [
    "# ! pip install ipywidgets huggingface_hub datasets transformers evaluate scikit-learn"
   ]
  },
  {
   "cell_type": "code",
   "execution_count": null,
   "id": "22df4ffa-5e4e-4e2e-9f4e-7055b24026b7",
   "metadata": {},
   "outputs": [],
   "source": [
    "from datasets import load_dataset\n",
    "from transformers import AutoTokenizer\n",
    "from transformers import DataCollatorWithPadding\n",
    "import numpy as np\n",
    "from transformers import AutoModelForSequenceClassification, TrainingArguments, Trainer\n",
    "import os\n",
    "import evaluate"
   ]
  },
  {
   "cell_type": "markdown",
   "id": "f3b681eb-370d-4731-b1e4-af8498eb4d6f",
   "metadata": {},
   "source": [
    "# **Import IMDB Dataset**"
   ]
  },
  {
   "cell_type": "code",
   "execution_count": 16,
   "id": "c7d385b6-8518-4870-9e0c-5b0e6b900186",
   "metadata": {},
   "outputs": [
    {
     "data": {
      "text/plain": [
       "{'text': 'I love sci-fi and am willing to put up with a lot. Sci-fi movies/TV are usually underfunded, under-appreciated and misunderstood. I tried to like this, I really did, but it is to good TV sci-fi as Babylon 5 is to Star Trek (the original). Silly prosthetics, cheap cardboard sets, stilted dialogues, CG that doesn\\'t match the background, and painfully one-dimensional characters cannot be overcome with a \\'sci-fi\\' setting. (I\\'m sure there are those of you out there who think Babylon 5 is good sci-fi TV. It\\'s not. It\\'s clichéd and uninspiring.) While US viewers might like emotion and character development, sci-fi is a genre that does not take itself seriously (cf. Star Trek). It may treat important issues, yet not as a serious philosophy. It\\'s really difficult to care about the characters here as they are not simply foolish, just missing a spark of life. Their actions and reactions are wooden and predictable, often painful to watch. The makers of Earth KNOW it\\'s rubbish as they have to always say \"Gene Roddenberry\\'s Earth...\" otherwise people would not continue watching. Roddenberry\\'s ashes must be turning in their orbit as this dull, cheap, poorly edited (watching it without advert breaks really brings this home) trudging Trabant of a show lumbers into space. Spoiler. So, kill off a main character. And then bring him back as another actor. Jeeez! Dallas all over again.',\n",
       " 'label': 0}"
      ]
     },
     "execution_count": 16,
     "metadata": {},
     "output_type": "execute_result"
    }
   ],
   "source": [
    "imdb = load_dataset(\"imdb\")\n",
    "imdb[\"test\"][0]"
   ]
  },
  {
   "cell_type": "markdown",
   "id": "9aff100c-78e6-467a-82d5-c9f29e6cc281",
   "metadata": {},
   "source": [
    "# **Preprocess Dataset**"
   ]
  },
  {
   "cell_type": "markdown",
   "id": "afb415f4-450d-435e-902a-d8ac8ad39857",
   "metadata": {},
   "source": [
    "Tokenize the dataset and truncate long sequences."
   ]
  },
  {
   "cell_type": "code",
   "execution_count": 5,
   "id": "37786333-87da-4c8e-8462-08238f29c6dc",
   "metadata": {},
   "outputs": [],
   "source": [
    "tokenizer = AutoTokenizer.from_pretrained(\"distilbert/distilbert-base-uncased\")"
   ]
  },
  {
   "cell_type": "code",
   "execution_count": 6,
   "id": "8d329083-98a8-450c-a6b8-498afbf69622",
   "metadata": {},
   "outputs": [],
   "source": [
    "def preprocess_function(examples):\n",
    "    return tokenizer(examples[\"text\"], truncation=True)"
   ]
  },
  {
   "cell_type": "markdown",
   "id": "57a750d1-9991-4bbb-8a9d-3dfd52c6eb50",
   "metadata": {},
   "source": [
    "Apply `preprocess_function` to the entire imdb dataset."
   ]
  },
  {
   "cell_type": "code",
   "execution_count": 7,
   "id": "69c4898b-8888-4854-9a00-83624b3d9e6d",
   "metadata": {},
   "outputs": [
    {
     "data": {
      "application/vnd.jupyter.widget-view+json": {
       "model_id": "5d0b71cdd9bc4684b4f67735bb2f5d95",
       "version_major": 2,
       "version_minor": 0
      },
      "text/plain": [
       "Map:   0%|          | 0/25000 [00:00<?, ? examples/s]"
      ]
     },
     "metadata": {},
     "output_type": "display_data"
    }
   ],
   "source": [
    "tokenized_imdb = imdb.map(preprocess_function, batched=True)"
   ]
  },
  {
   "cell_type": "markdown",
   "id": "47ce1b26-37ad-41f4-8c92-b225475c7ce2",
   "metadata": {},
   "source": [
    "For some reason, which I should've Googled, transformers perform best when all of the input sentences have the same length. So, we need to dynamically pad the input to match the longest sentence in the batch."
   ]
  },
  {
   "cell_type": "code",
   "execution_count": 8,
   "id": "abfa4dd8-46a2-4ec6-8d98-4af82931b0db",
   "metadata": {},
   "outputs": [],
   "source": [
    "data_collator = DataCollatorWithPadding(tokenizer=tokenizer)"
   ]
  },
  {
   "cell_type": "markdown",
   "id": "dc776fbe-b365-4444-b10d-c309cd94e67c",
   "metadata": {},
   "source": [
    "Load the huggingface's accuracy metric."
   ]
  },
  {
   "cell_type": "code",
   "execution_count": 9,
   "id": "ec49c564-d91c-49e7-bc62-a3f015d012e5",
   "metadata": {},
   "outputs": [],
   "source": [
    "accuracy = evaluate.load(\"accuracy\")"
   ]
  },
  {
   "cell_type": "code",
   "execution_count": null,
   "id": "57ea92c0-e0b6-4567-899c-35bf7c08f4bf",
   "metadata": {},
   "outputs": [],
   "source": [
    "def compute_metrics(eval_pred):\n",
    "    predictions, labels = eval_pred\n",
    "    predictions = np.argmax(predictions, axis=1) # Take the class with the highest probability\n",
    "    return accuracy.compute(predictions=predictions, references=labels)"
   ]
  },
  {
   "cell_type": "code",
   "execution_count": null,
   "id": "b69e03dc",
   "metadata": {},
   "outputs": [],
   "source": [
    "id2label = {0: \"NEGATIVE\", 1: \"POSITIVE\"}\n",
    "label2id = {\"NEGATIVE\": 0, \"POSITIVE\": 1}"
   ]
  },
  {
   "cell_type": "markdown",
   "id": "ee31cba7-826e-499c-b8f0-9d5f30c8901f",
   "metadata": {},
   "source": [
    "# **Train Model**\n",
    "We import the unfinetuned DistilBERT and finetune, or load a finetuned model. We finetuned using arbitrarily chosen hyperparameter because why not."
   ]
  },
  {
   "cell_type": "code",
   "execution_count": null,
   "id": "655eac0a",
   "metadata": {},
   "outputs": [],
   "source": [
    "model = AutoModelForSequenceClassification.from_pretrained(\n",
    "    \"distilbert/distilbert-base-uncased\", num_labels=2, id2label=id2label, label2id=label2id\n",
    ")"
   ]
  },
  {
   "cell_type": "code",
   "execution_count": 19,
   "id": "845f4abd-7d7e-4c6f-a7c0-291839898fb7",
   "metadata": {},
   "outputs": [],
   "source": [
    "# Probably need to understand what are these configs\n",
    "training_args = TrainingArguments(\n",
    "    output_dir=\"./model/DistilBert\",\n",
    "    learning_rate=2e-5,\n",
    "    per_device_train_batch_size=16,\n",
    "    per_device_eval_batch_size=16,\n",
    "    num_train_epochs=2,\n",
    "    weight_decay=0.01,\n",
    "    eval_strategy=\"epoch\",\n",
    "    save_strategy=\"epoch\",\n",
    "    load_best_model_at_end=True,\n",
    "    push_to_hub=False,\n",
    ")\n",
    "\n",
    "trainer = Trainer(\n",
    "    model=model,\n",
    "    args=training_args,\n",
    "    train_dataset=tokenized_imdb[\"train\"],\n",
    "    eval_dataset=tokenized_imdb[\"test\"],\n",
    "    processing_class=tokenizer,\n",
    "    data_collator=data_collator,\n",
    "    compute_metrics=compute_metrics,\n",
    ")"
   ]
  },
  {
   "cell_type": "code",
   "execution_count": 21,
   "id": "edd027e2-f0e1-47a1-b000-19b9130b3f5a",
   "metadata": {},
   "outputs": [
    {
     "name": "stdout",
     "output_type": "stream",
     "text": [
      "Finetuned model exists: ./model/DistilBert/checkpoint-3126\n"
     ]
    }
   ],
   "source": [
    "checkpoint_path = \"./model/DistilBert/checkpoint-3126\"  # Example with checkpoint number 500\n",
    "\n",
    "if os.path.exists(checkpoint_path):\n",
    "    print(f\"Finetuned model exists: {checkpoint_path}\")\n",
    "    model = AutoModelForSequenceClassification.from_pretrained(checkpoint_path)\n",
    "else:\n",
    "    print(\"Finetuned model does not exist. Finetuning now.\")\n",
    "    model = AutoModelForSequenceClassification.from_pretrained(\n",
    "        \"distilbert/distilbert-base-uncased\", num_labels=2, id2label=id2label, label2id=label2id\n",
    "    )\n",
    "    trainer.train()"
   ]
  },
  {
   "cell_type": "markdown",
   "id": "c6264eb1-71f2-4701-8794-f4367255e6f9",
   "metadata": {},
   "source": [
    "# **Inference**\n",
    "This should take around 2 minutes in NTU GPU."
   ]
  },
  {
   "cell_type": "code",
   "execution_count": 39,
   "id": "66311732-1773-40d0-8d1d-760efc45e9de",
   "metadata": {},
   "outputs": [
    {
     "data": {
      "text/html": [
       "\n",
       "    <div>\n",
       "      \n",
       "      <progress value='1563' max='1563' style='width:300px; height:20px; vertical-align: middle;'></progress>\n",
       "      [1563/1563 01:54]\n",
       "    </div>\n",
       "    "
      ],
      "text/plain": [
       "<IPython.core.display.HTML object>"
      ]
     },
     "metadata": {},
     "output_type": "display_data"
    },
    {
     "name": "stdout",
     "output_type": "stream",
     "text": [
      "Evaluation results: {'eval_loss': 0.3020123243331909, 'eval_model_preparation_time': 0.0011, 'eval_accuracy': 0.92936, 'eval_runtime': 114.2611, 'eval_samples_per_second': 218.797, 'eval_steps_per_second': 13.679}\n"
     ]
    }
   ],
   "source": [
    "tokenized_test = tokenized_imdb[\"test\"]\n",
    "\n",
    "# Set the format for PyTorch\n",
    "tokenized_test = tokenized_test.remove_columns([\"text\"])\n",
    "tokenized_test = tokenized_test.rename_column(\"label\", \"labels\")\n",
    "tokenized_test.set_format(\"torch\")\n",
    "\n",
    "eval_args = TrainingArguments(\n",
    "    output_dir=\"./eval_results\",\n",
    "    per_device_eval_batch_size=16,\n",
    "    report_to=\"none\"\n",
    ")\n",
    "\n",
    "eval_trainer = Trainer(\n",
    "    model=model,\n",
    "    args=eval_args,\n",
    "    eval_dataset=tokenized_test,\n",
    "    data_collator=data_collator,\n",
    "    compute_metrics=compute_metrics\n",
    ")\n",
    "\n",
    "# Run evaluation\n",
    "eval_results = eval_trainer.evaluate()\n",
    "print(f\"Evaluation results: {eval_results}\")"
   ]
  }
 ],
 "metadata": {
  "kernelspec": {
   "display_name": "nndl",
   "language": "python",
   "name": "nndl"
  },
  "language_info": {
   "codemirror_mode": {
    "name": "ipython",
    "version": 3
   },
   "file_extension": ".py",
   "mimetype": "text/x-python",
   "name": "python",
   "nbconvert_exporter": "python",
   "pygments_lexer": "ipython3",
   "version": "3.11.11"
  }
 },
 "nbformat": 4,
 "nbformat_minor": 5
}
